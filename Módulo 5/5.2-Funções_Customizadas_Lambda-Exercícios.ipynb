{
 "cells": [
  {
   "cell_type": "markdown",
   "id": "cbdff5a5",
   "metadata": {},
   "source": [
    "# Módulo 5 - Funções\n",
    "\n",
    "## Aulas 5.2 - Funções Customizadas e 5.4 Funções ```lambda```"
   ]
  },
  {
   "cell_type": "markdown",
   "id": "28a3fee2",
   "metadata": {},
   "source": [
    "### Q1.\n",
    "\n",
    "- Sabendo que o código a seguir calcula o fatorial de n, escreva uma função chamada ```fatorial()``` que recebe um inteiro ```n``` como parâmetro e retorna o resultado do fatorial de ```n```. \n",
    "- No programa principal, peça ao usuário o valor de ```n```, chame a sua função e imprima o retorno.\n",
    "\n",
    "```python\n",
    "fat = 1\n",
    "for i in range(1, n+1):\n",
    "    fat *= i \n",
    "```"
   ]
  },
  {
   "cell_type": "code",
   "execution_count": 12,
   "id": "d126b3a5",
   "metadata": {},
   "outputs": [],
   "source": [
    "## Crie aqui a função fatorial()\n",
    "## lembre-se de executar a célula para que \n",
    "## a função passe a existir e possa ser chamada\n",
    "#principal\n",
    "def fatorial (valor):\n",
    "    fat=1\n",
    "    for i in range (1,valor+1):\n",
    "      fat *=i\n",
    "    return (fat)\n"
   ]
  },
  {
   "cell_type": "code",
   "execution_count": 26,
   "id": "6e4fe64e",
   "metadata": {},
   "outputs": [
    {
     "name": "stdout",
     "output_type": "stream",
     "text": [
      "3! é 6\n"
     ]
    }
   ],
   "source": [
    "## Escreva aqui o programa principal e execute a célula\n",
    "\n",
    "n=int (input(\"Digite um valor: \"))\n",
    "meu_fatorial= fatorial(n)\n",
    "print(f\"{n}! é {meu_fatorial}\")\n"
   ]
  },
  {
   "cell_type": "markdown",
   "id": "c0a1f599",
   "metadata": {},
   "source": [
    "### Q2.\n",
    "\n",
    "- Escreva uma função em Python chamada ```soma_quadrados``` que recebe dois números como parâmetros e retorna a soma dos seus quadrados. \n",
    "- No programa principal solicite ao usuário que insira dois números e utilize a função para exibir a soma dos quadrados."
   ]
  },
  {
   "cell_type": "code",
   "execution_count": 30,
   "id": "6dbddaad",
   "metadata": {},
   "outputs": [],
   "source": [
    "## Crie aqui a função soma_quadrados()\n",
    "def soma_quadrados (valor1,valor2):\n",
    "    soma_dos_quadrados=(valor1**2)+(valor2**2)\n",
    "    return (soma_dos_quadrados)\n"
   ]
  },
  {
   "cell_type": "code",
   "execution_count": 35,
   "id": "9175a7da",
   "metadata": {},
   "outputs": [
    {
     "name": "stdout",
     "output_type": "stream",
     "text": [
      "Número1 é 7\n",
      "Número2 é 3\n",
      "A soma dos quadrados destes números é 58\n"
     ]
    }
   ],
   "source": [
    "## Escreva aqui o programa principal e execute a célula\n",
    "n1=int(input(\"Digite um número: \"))\n",
    "n2=int (input(\"Digite um número: \"))\n",
    "print(f\"Número1 é {n1}\")\n",
    "print (f\"Número2 é {n2}\")\n",
    "soma=soma_quadrados(n1,n2)\n",
    "print (f\"A soma dos quadrados destes números é {soma}\")"
   ]
  },
  {
   "cell_type": "markdown",
   "id": "6ba34ce0",
   "metadata": {},
   "source": [
    "### Q3.\n",
    "\n",
    "- Crie uma função em Python chamada ```soma_digitos``` que recebe um número inteiro como parâmetro e retorna a soma dos seus dígitos. Por exemplo, para o número 123, a função deve retornar 6, $(1 + 2 + 3)$.\n",
    "    - O desafio aqui é separar os dígitos de um número inteiro usando operações aritméticas <br> <br>\n",
    "\n",
    "- No programa principal solicite ao usuário que insira um número e utilize a função ```soma_digitos``` para calcular e exibir a soma dos seus dígitos."
   ]
  },
  {
   "cell_type": "code",
   "execution_count": 19,
   "id": "34838ebf",
   "metadata": {},
   "outputs": [],
   "source": [
    "## Crie aqui a função soma_digitos()\n",
    "def soma_digitos (valor):\n",
    "\n",
    "    return (soma_dos_digitos)\n"
   ]
  },
  {
   "cell_type": "code",
   "execution_count": 20,
   "id": "27c35b21",
   "metadata": {},
   "outputs": [],
   "source": [
    "## Escreva aqui o programa principal e execute a célula\n"
   ]
  },
  {
   "cell_type": "markdown",
   "id": "c318b159",
   "metadata": {},
   "source": [
    "### Q4.\n",
    "\n",
    "- Crie a função ```inverteValor()``` que recebe um inteiro de qualquer tamanho e retorna esse valor invertido usando apenas operações aritméticas\n",
    "- Crie a função ```verificaInverso()``` que recebe o valor original e o valor invertido e retorna verdadeiro se ambos forem igualmente par ou igualmente ímpar. Retorne falso caso contrário.\n",
    "- No programa principal, peça um valor do usuário e imprima o retorno de ambas as funções.\n"
   ]
  },
  {
   "cell_type": "code",
   "execution_count": 21,
   "id": "e4e47d1d",
   "metadata": {},
   "outputs": [],
   "source": [
    "## Crie aqui as funções inverteValor() e verificaInverso()\n",
    "def inverteValor (valor)\n",
    "    valor=int(input(\"Digite um número: \"))\n",
    "    return\n",
    "\n",
    "def verificaInverso (valor)\n",
    "    return"
   ]
  },
  {
   "cell_type": "code",
   "execution_count": 22,
   "id": "a9514e56",
   "metadata": {},
   "outputs": [],
   "source": [
    "## Escreva aqui o programa principal e execute a célula\n"
   ]
  },
  {
   "cell_type": "markdown",
   "id": "329be966",
   "metadata": {},
   "source": [
    "### Q5.\n",
    "\n",
    "Você está desenvolvendo um programa para auxiliar em cálculos de geometria básica. Crie as seguintes funções:\n",
    "- A função ```calcula_perimetro_triangulo()``` que recebe três inteiros correspondentes aos lados de um triângulo e retorna o perímetro do triângulo, ou seja, a soma dos seus lados.\n",
    "- A função ```calcula_perimetro_circulo()``` que recebe um inteiro referente ao raio do círculo e retorna o perímetro do círculo, dado por $2 \\pi r$. Use a constante $\\pi$ da biblioteca ```math```.\n",
    "- A função ```calcula_perimetro_retangulo()``` que possui um parâmetro obrigatório ```lado1``` e um opcional ```lado2```, ambos inteiros. Se o valor opcional não for fornecido, significa que se trata de um quadrado. Sua função deve calcular e retornar o perímetro do retângulo, ou seja, a soma de seus lados. \n",
    "    - Para o quadrado, é dado por $4 \\times lado1$\n",
    "    - Para o retângulo é dado por $2 \\times lado1 + 2 \\times lado2$\n",
    "    \n",
    "- No programa principal apresente um menu com as opções disponíveis do seu sistema e uma quarta opção ```Sair```. Solicite ao usuário a opção desejada, solicite as entradas correspondentes à opção escolhida, invoque a respective função e apresente o seu retorno. Seu programa deve retornar ao menu até que o usuário escolha a opção ```Sair```\n",
    "\n",
    "Exemplo de interação:\n",
    "```\n",
    "1 - Calcular perímetro triângulo\n",
    "2 - Calcular perímetro círculo\n",
    "3 - Calcular perímetro retângulo\n",
    "4 - Sair\n",
    "\n",
    "Opção: 1\n",
    "Digite os três lados do triângulo:\n",
    "3\n",
    "4\n",
    "5\n",
    "O perímetro é: 12\n",
    "\n",
    "1 - Calcular perímetro triângulo\n",
    "2 - Calcular perímetro círculo\n",
    "3 - Calcular perímetro retângulo\n",
    "4 - Sair\n",
    "\n",
    "Opção: 3\n",
    "Informe os dois lados do retângulo. Se for um quadrado, digite 0 para o segundo valor:\n",
    "5\n",
    "0\n",
    "O perímetro é: 20\n",
    "\n",
    "1 - Calcular perímetro triângulo\n",
    "2 - Calcular perímetro círculo\n",
    "3 - Calcular perímetro retângulo\n",
    "4 - Sair\n",
    "\n",
    "Opção: 4\n",
    "```"
   ]
  },
  {
   "cell_type": "code",
   "execution_count": 23,
   "id": "0793d328",
   "metadata": {},
   "outputs": [],
   "source": [
    "## Crie aqui as funções \n",
    "import math\n",
    "def calcula_perimetro_triangulo (valor1,valor2,valor3):\n",
    "    perimetro_triangulo= valor1+valor2+valor3 \n",
    "    return (perimetro_triangulo)\n",
    "\n",
    "def calcula_perimetro_circulo (raio):\n",
    "    pi=math.pi\n",
    "    perimetro_circulo=2*pi*raio\n",
    "    return (perimetro_circulo)\n",
    "\n",
    "def calcula_perimetro_retangulo (v1,v2):\n",
    "    perimetro_retangulo=2*v1+2*v2\n",
    "    if v2==0:\n",
    "       perimetro_retangulo=4*v1\n",
    "    return (perimetro_retangulo)"
   ]
  },
  {
   "cell_type": "code",
   "execution_count": 2,
   "id": "36269c71",
   "metadata": {},
   "outputs": [
    {
     "name": "stdout",
     "output_type": "stream",
     "text": [
      "Ovalor do raio é 8\n"
     ]
    },
    {
     "ename": "NameError",
     "evalue": "name 'calcula_perimetro_circulo' is not defined",
     "output_type": "error",
     "traceback": [
      "\u001b[1;31m---------------------------------------------------------------------------\u001b[0m",
      "\u001b[1;31mNameError\u001b[0m                                 Traceback (most recent call last)",
      "Cell \u001b[1;32mIn[2], line 17\u001b[0m\n\u001b[0;32m     15\u001b[0m     raio\u001b[38;5;241m=\u001b[39m\u001b[38;5;28mint\u001b[39m (\u001b[38;5;28minput\u001b[39m (\u001b[38;5;124m\"\u001b[39m\u001b[38;5;124mDigite o raio do círculo: \u001b[39m\u001b[38;5;124m\"\u001b[39m))\n\u001b[0;32m     16\u001b[0m     \u001b[38;5;28mprint\u001b[39m (\u001b[38;5;124mf\u001b[39m\u001b[38;5;124m\"\u001b[39m\u001b[38;5;124mOvalor do raio é \u001b[39m\u001b[38;5;132;01m{\u001b[39;00mraio\u001b[38;5;132;01m}\u001b[39;00m\u001b[38;5;124m\"\u001b[39m)\n\u001b[1;32m---> 17\u001b[0m     per_circulo\u001b[38;5;241m=\u001b[39m\u001b[43mcalcula_perimetro_circulo\u001b[49m (raio)\n\u001b[0;32m     18\u001b[0m     \u001b[38;5;28mprint\u001b[39m (\u001b[38;5;124mf\u001b[39m\u001b[38;5;124m\"\u001b[39m\u001b[38;5;124mO perímetro do círculo é \u001b[39m\u001b[38;5;132;01m{\u001b[39;00mper_circulo\u001b[38;5;132;01m}\u001b[39;00m\u001b[38;5;124m\"\u001b[39m)\n\u001b[0;32m     20\u001b[0m \u001b[38;5;28;01melif\u001b[39;00m n\u001b[38;5;241m==\u001b[39m\u001b[38;5;241m3\u001b[39m:\n",
      "\u001b[1;31mNameError\u001b[0m: name 'calcula_perimetro_circulo' is not defined"
     ]
    }
   ],
   "source": [
    "## Escreva aqui o programa principal \n",
    "import math\n",
    "\n",
    "n= int (input (\"Escolha uma das opções: (1) Calcular perímetro do triângulo, (2) Calcular perímetro do circulo, (3)Calcular perímetro do retângulo, (4) Sair\" ))\n",
    "\n",
    "if n==1:\n",
    "    x=int(input(\"Digite os três lados do triangulo: \"))\n",
    "    l1=int (input (\"Digite lado 1: \"))\n",
    "    l2=int (input (\"Digite lado 2: \"))\n",
    "    l3=int (input (\"Digite lado 3: \"))\n",
    "    per_triangulo=calcula_perimetro_triangulo(l1,l2,l3)\n",
    "    print (f\"O perímetro do triangulo é {per_triangulo}\")\n",
    "\n",
    "elif n==2:\n",
    "    raio=int (input (\"Digite o raio do círculo: \"))\n",
    "    print (f\"O valor do raio é {raio}\")\n",
    "    per_circulo=calcula_perimetro_circulo (raio)\n",
    "    print (f\"O perímetro do círculo é {per_circulo}\")\n",
    "\n",
    "elif n==3:\n",
    "    x=int (input (\"Digite os dois lados do retângulo: \"))\n",
    "    l1=int (input (\"Digite Lado1: \"))\n",
    "    l2=int (\"Digite Lado 2 (caso seja um quadrado, digite 0):\")\n",
    "    per_retangulo= calcula_perimetro_retangulo (l1,l2)\n",
    "    print (f\"O perímetro do retângulo é {per_retangulo}\")\n",
    "\n",
    "elif n==4: \n",
    "    exit\n"
   ]
  },
  {
   "cell_type": "markdown",
   "id": "3016bcc7",
   "metadata": {},
   "source": [
    "## Funções ```lambda```"
   ]
  },
  {
   "cell_type": "markdown",
   "id": "f9cdb8dd",
   "metadata": {},
   "source": [
    "### Q6.\n",
    "\n",
    "Crie uma função lambda para verificar se um número é par ou ímpar. Em seguida, solicite ao usuário um número indefinidos de valores (até que o usuário digite 0). Para cada valor de entrada, informe se é par ou ímpar.\n",
    "\n",
    "Exemplo de interação:\n",
    "```\n",
    "Digite os valores que deseja verificar a paridade (digite 0 para finalizar a entrada de dados):\n",
    "3\n",
    "ímpar\n",
    "8\n",
    "par\n",
    "12\n",
    "par\n",
    "5\n",
    "ímpar\n",
    "7ímpar\n",
    "```"
   ]
  },
  {
   "cell_type": "code",
   "execution_count": null,
   "id": "e3c31a78",
   "metadata": {},
   "outputs": [],
   "source": []
  },
  {
   "cell_type": "markdown",
   "id": "5a87474d",
   "metadata": {},
   "source": [
    "### Q7.\n",
    "\n",
    "Escreva um programa que pergunte ao usuário qual operação ele deseja: maior ou menor.\n",
    "Em seguida leia uma quantidade indefinida de valores do usuário, até que o usuário digite o valor zero.\n",
    "Apresente ao final o maior ou menor dos valores digitados de acordo com a escolha do usuário.\n",
    "\n",
    "**Sua solução deve incluir pelo menos uma função ```lambda```** \n",
    "\n",
    "Exemplo de interação:\n",
    "```\n",
    "Opções: (1) maior ou (2) menor?\n",
    "Opção: 1\n",
    "\n",
    "Digite os valores de entrada. Digite 0 para finalizar a entrada de valores.\n",
    "4\n",
    "12\n",
    "15\n",
    "1\n",
    "0\n",
    "\n",
    "O maior valor é: 15\n",
    "```"
   ]
  },
  {
   "cell_type": "code",
   "execution_count": 10,
   "id": "ee3f68ca",
   "metadata": {},
   "outputs": [
    {
     "ename": "NameError",
     "evalue": "name 'result' is not defined",
     "output_type": "error",
     "traceback": [
      "\u001b[1;31m---------------------------------------------------------------------------\u001b[0m",
      "\u001b[1;31mNameError\u001b[0m                                 Traceback (most recent call last)",
      "Cell \u001b[1;32mIn[10], line 15\u001b[0m\n\u001b[0;32m     12\u001b[0m     n\u001b[38;5;241m=\u001b[39m\u001b[38;5;28mint\u001b[39m (\u001b[38;5;28minput\u001b[39m(\u001b[38;5;124m\"\u001b[39m\u001b[38;5;124mDigite um valor: \u001b[39m\u001b[38;5;124m\"\u001b[39m))\n\u001b[0;32m     13\u001b[0m     \u001b[38;5;28;01mif\u001b[39;00m n\u001b[38;5;241m==\u001b[39m\u001b[38;5;241m0\u001b[39m:\u001b[38;5;28;01mbreak\u001b[39;00m\n\u001b[1;32m---> 15\u001b[0m     \u001b[38;5;28;01mif\u001b[39;00m opcao_function ( n, \u001b[43mresult\u001b[49m):\n\u001b[0;32m     16\u001b[0m      result\u001b[38;5;241m=\u001b[39mn\n\u001b[0;32m     17\u001b[0m \u001b[38;5;28mprint\u001b[39m (result)\n",
      "\u001b[1;31mNameError\u001b[0m: name 'result' is not defined"
     ]
    }
   ],
   "source": [
    "## Escreva aqui o programa principal \n",
    "opcao=input(\"Digite uma das opção: (1) maior (2) menor \")\n",
    "if opcao==1:\n",
    "    result: float(\"-inf\")\n",
    "    opcao_function=lambda a,b:a>b\n",
    "\n",
    "else:\n",
    "    result:float(\"inf\")\n",
    "    opcao_function=lambda a,b:a<b\n",
    "\n",
    "while True:\n",
    "    n=int (input(\"Digite um valor: \"))\n",
    "    if n==0:break\n",
    "\n",
    "    if opcao_function ( n, result):\n",
    "     result=n\n",
    "print (result)\n"
   ]
  }
 ],
 "metadata": {
  "kernelspec": {
   "display_name": "Python 3 (ipykernel)",
   "language": "python",
   "name": "python3"
  },
  "language_info": {
   "codemirror_mode": {
    "name": "ipython",
    "version": 3
   },
   "file_extension": ".py",
   "mimetype": "text/x-python",
   "name": "python",
   "nbconvert_exporter": "python",
   "pygments_lexer": "ipython3",
   "version": "3.12.2"
  }
 },
 "nbformat": 4,
 "nbformat_minor": 5
}
